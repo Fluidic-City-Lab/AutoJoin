{
 "cells": [
  {
   "cell_type": "code",
   "execution_count": 2,
   "id": "586d9db3",
   "metadata": {},
   "outputs": [
    {
     "ename": "FileNotFoundError",
     "evalue": "[Errno 2] No such file or directory: ''",
     "output_type": "error",
     "traceback": [
      "\u001b[0;31m---------------------------------------------------------------------------\u001b[0m",
      "\u001b[0;31mFileNotFoundError\u001b[0m                         Traceback (most recent call last)",
      "Input \u001b[0;32mIn [2]\u001b[0m, in \u001b[0;36m<cell line: 12>\u001b[0;34m()\u001b[0m\n\u001b[1;32m      9\u001b[0m clean_images_path \u001b[38;5;241m=\u001b[39m \u001b[38;5;124m'\u001b[39m\u001b[38;5;124mtest_honda/\u001b[39m\u001b[38;5;124m'\u001b[39m \u001b[38;5;66;03m# This should be changed to fit the dataset\u001b[39;00m\n\u001b[1;32m     10\u001b[0m label_path_test \u001b[38;5;241m=\u001b[39m \u001b[38;5;124m'\u001b[39m\u001b[38;5;124mlabels_test_honda.csv\u001b[39m\u001b[38;5;124m'\u001b[39m \u001b[38;5;66;03m# This should be changed to fit the dataset\u001b[39;00m\n\u001b[0;32m---> 12\u001b[0m indiv_paths \u001b[38;5;241m=\u001b[39m \u001b[38;5;28msorted\u001b[39m(\u001b[43mos\u001b[49m\u001b[38;5;241;43m.\u001b[39;49m\u001b[43mlistdir\u001b[49m\u001b[43m(\u001b[49m\u001b[43mtest_paths\u001b[49m\u001b[43m)\u001b[49m)\n\u001b[1;32m     14\u001b[0m \u001b[38;5;28;01mfor\u001b[39;00m i \u001b[38;5;129;01min\u001b[39;00m tqdm(\u001b[38;5;28mrange\u001b[39m(\u001b[38;5;28mlen\u001b[39m(indiv_paths)), position\u001b[38;5;241m=\u001b[39m\u001b[38;5;241m0\u001b[39m, leave\u001b[38;5;241m=\u001b[39m\u001b[38;5;28;01mTrue\u001b[39;00m):\n\u001b[1;32m     15\u001b[0m     image_path_test \u001b[38;5;241m=\u001b[39m \u001b[38;5;124mf\u001b[39m\u001b[38;5;124m'\u001b[39m\u001b[38;5;132;01m{\u001b[39;00mtest_paths\u001b[38;5;132;01m}\u001b[39;00m\u001b[38;5;132;01m{\u001b[39;00mindiv_paths[i]\u001b[38;5;132;01m}\u001b[39;00m\u001b[38;5;124m/\u001b[39m\u001b[38;5;124m'\u001b[39m\n",
      "\u001b[0;31mFileNotFoundError\u001b[0m: [Errno 2] No such file or directory: ''"
     ]
    }
   ],
   "source": [
    "import cv2\n",
    "import numpy as np\n",
    "import csv\n",
    "# import random\n",
    "from tqdm import tqdm\n",
    "import os\n",
    "\n",
    "test_paths = 'ae_tests'\n",
    "clean_images_path = 'test_honda/' # This should be changed to fit the dataset\n",
    "label_path_test = 'labels_test_honda.csv' # This should be changed to fit the dataset\n",
    "\n",
    "indiv_paths = sorted(os.listdir(test_paths))\n",
    "\n",
    "for i in tqdm(range(len(indiv_paths)), position=0, leave=True):\n",
    "    image_path_test = f'{test_paths}{indiv_paths[i]}/'\n",
    "    print(image_path_test)\n",
    "    \n",
    "    name = indiv_paths[i]\n",
    "    name = name.split('valB_IMGC_')\n",
    "    name = name[-1]\n",
    "    print(name)\n",
    "    \n",
    "    csv_test = []\n",
    "\n",
    "    with open(label_path_test, 'r') as csv_file:\n",
    "        csv_reader = csv.reader(csv_file)\n",
    "\n",
    "        for row in csv_reader:\n",
    "            csv_test.append(row)\n",
    "\n",
    "    csv_test = np.array(csv_test)\n",
    "\n",
    "    noise_test = []\n",
    "    clean_test = []\n",
    "    angles_test = []\n",
    "\n",
    "    for j in tqdm(range(len(csv_test)), position=0, leave=True):\n",
    "        noise_img = cv2.imread(image_path_test + csv_test[j][0])   \n",
    "        noise_img = cv2.cvtColor(noise_img, cv2.COLOR_BGR2RGB) # Convert the images to be RGB from BGR b/c cv2 defaults to BGR\n",
    "        \n",
    "        clean_img = cv2.imread(clean_images_path + csv_test[j][0])\n",
    "        clean_img = cv2.cvtColor(clean_img, cv2.COLOR_BGR2RGB)\n",
    "        \n",
    "        target_angle = csv_test[j][-1]\n",
    "\n",
    "        noise_test.append(noise_img)\n",
    "        clean_test.append(clean_img)\n",
    "        angles_test.append(target_angle)\n",
    "\n",
    "    noise_test = np.array(noise_test)\n",
    "    noise_test = np.moveaxis(noise_test, -1, 1)\n",
    "    \n",
    "    clean_test = np.array(clean_test)\n",
    "    clean_test = np.moveaxis(clean_test, -1, 1) \n",
    "    \n",
    "    angles_test = np.array(angles_test)\n",
    "\n",
    "    print(noise_test.shape, clean_test.shape, angles_test.shape)\n",
    "\n",
    "    np.savez(f'./test_{name}.npz', test_input_images=noise_test, test_target_images=clean_test, test_target_angles=angles_test)"
   ]
  },
  {
   "cell_type": "code",
   "execution_count": null,
   "id": "dead356a",
   "metadata": {},
   "outputs": [],
   "source": []
  },
  {
   "cell_type": "code",
   "execution_count": null,
   "id": "d7d4515a",
   "metadata": {},
   "outputs": [],
   "source": []
  }
 ],
 "metadata": {
  "kernelspec": {
   "display_name": "Python 3 (ipykernel)",
   "language": "python",
   "name": "python3"
  },
  "language_info": {
   "codemirror_mode": {
    "name": "ipython",
    "version": 3
   },
   "file_extension": ".py",
   "mimetype": "text/x-python",
   "name": "python",
   "nbconvert_exporter": "python",
   "pygments_lexer": "ipython3",
   "version": "3.8.12"
  }
 },
 "nbformat": 4,
 "nbformat_minor": 5
}
